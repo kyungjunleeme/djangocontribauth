{
 "cells": [
  {
   "cell_type": "code",
   "execution_count": 1,
   "id": "f45ebe66",
   "metadata": {},
   "outputs": [],
   "source": [
    "import os\n",
    "os.environ['DJANGO_SETTINGS_MODULE'] = 'djangocontribauth.settings'\n",
    "os.environ['DJANGO_ALLOW_ASYNC_UNSAFE'] = 'true'\n",
    "\n",
    "import django\n",
    "django.setup()"
   ]
  },
  {
   "cell_type": "code",
   "execution_count": 2,
   "id": "dc2ef705",
   "metadata": {},
   "outputs": [],
   "source": [
    "from blog.models import Post, Comment, Tag"
   ]
  },
  {
   "cell_type": "code",
   "execution_count": 3,
   "id": "be244b67",
   "metadata": {},
   "outputs": [
    {
     "data": {
      "text/plain": [
       "<QuerySet [<Comment: Comment object (2)>, <Comment: Comment object (3)>, <Comment: Comment object (4)>]>"
      ]
     },
     "execution_count": 3,
     "metadata": {},
     "output_type": "execute_result"
    }
   ],
   "source": [
    "Comment.objects.all()"
   ]
  },
  {
   "cell_type": "code",
   "execution_count": 4,
   "id": "d464f975",
   "metadata": {},
   "outputs": [],
   "source": [
    "comment = Comment.objects.first()"
   ]
  },
  {
   "cell_type": "code",
   "execution_count": 5,
   "id": "eb5d8101",
   "metadata": {},
   "outputs": [
    {
     "data": {
      "text/plain": [
       "<Post: Post object (3)>"
      ]
     },
     "execution_count": 5,
     "metadata": {},
     "output_type": "execute_result"
    }
   ],
   "source": [
    "# Post.objects.get(pk=comment.post_id) comment.post 해서 바로 값을 가져올 수 있던게 post 라는 객체에 이 값을 저장했기 때문\n",
    "comment.post # post는 가상의 필드"
   ]
  },
  {
   "cell_type": "code",
   "execution_count": 6,
   "id": "6aad3e7f",
   "metadata": {},
   "outputs": [],
   "source": [
    "post = Post.objects.last()"
   ]
  },
  {
   "cell_type": "code",
   "execution_count": 7,
   "id": "6b7fad4d",
   "metadata": {},
   "outputs": [
    {
     "data": {
      "text/plain": [
       "<Post: Post object (3)>"
      ]
     },
     "execution_count": 7,
     "metadata": {},
     "output_type": "execute_result"
    }
   ],
   "source": [
    "post"
   ]
  },
  {
   "cell_type": "code",
   "execution_count": 8,
   "id": "4f27899d",
   "metadata": {},
   "outputs": [
    {
     "data": {
      "text/plain": [
       "<QuerySet [<Comment: Comment object (2)>, <Comment: Comment object (3)>]>"
      ]
     },
     "execution_count": 8,
     "metadata": {},
     "output_type": "execute_result"
    }
   ],
   "source": [
    "#1)\n",
    "Comment.objects.filter(post_id=3)"
   ]
  },
  {
   "cell_type": "code",
   "execution_count": 9,
   "id": "da5a4168",
   "metadata": {},
   "outputs": [
    {
     "data": {
      "text/plain": [
       "<QuerySet [<Comment: Comment object (2)>, <Comment: Comment object (3)>]>"
      ]
     },
     "execution_count": 9,
     "metadata": {},
     "output_type": "execute_result"
    }
   ],
   "source": [
    "#2)\n",
    "Comment.objects.filter(post__id=3)"
   ]
  },
  {
   "cell_type": "code",
   "execution_count": 10,
   "id": "b41692cf",
   "metadata": {},
   "outputs": [
    {
     "data": {
      "text/plain": [
       "<QuerySet [<Comment: Comment object (2)>, <Comment: Comment object (3)>]>"
      ]
     },
     "execution_count": 10,
     "metadata": {},
     "output_type": "execute_result"
    }
   ],
   "source": [
    "#3) 추천\n",
    "Comment.objects.filter(post=post)"
   ]
  },
  {
   "cell_type": "code",
   "execution_count": 11,
   "id": "4d186f03",
   "metadata": {},
   "outputs": [
    {
     "data": {
      "text/plain": [
       "<QuerySet [<Comment: Comment object (2)>, <Comment: Comment object (3)>]>"
      ]
     },
     "execution_count": 11,
     "metadata": {},
     "output_type": "execute_result"
    }
   ],
   "source": [
    "#4) 추천\n",
    "post.comment_set.all()"
   ]
  },
  {
   "cell_type": "code",
   "execution_count": 34,
   "id": "0fc20050",
   "metadata": {},
   "outputs": [],
   "source": [
    "# ========================================================================================================="
   ]
  },
  {
   "cell_type": "code",
   "execution_count": 7,
   "id": "b3377ff1",
   "metadata": {},
   "outputs": [],
   "source": [
    "post = Post.objects.last()"
   ]
  },
  {
   "cell_type": "code",
   "execution_count": 8,
   "id": "c866a429",
   "metadata": {},
   "outputs": [
    {
     "data": {
      "text/plain": [
       "<QuerySet [<Tag: python>]>"
      ]
     },
     "execution_count": 8,
     "metadata": {},
     "output_type": "execute_result"
    }
   ],
   "source": [
    "post.tag_set.all()"
   ]
  },
  {
   "cell_type": "code",
   "execution_count": 16,
   "id": "f0bd8476",
   "metadata": {},
   "outputs": [
    {
     "data": {
      "text/plain": [
       "<Tag: 장고>"
      ]
     },
     "execution_count": 16,
     "metadata": {},
     "output_type": "execute_result"
    }
   ],
   "source": [
    "# 새로운 태그 추가\n",
    "Tag.objects.create(name=\"장고\")"
   ]
  },
  {
   "cell_type": "code",
   "execution_count": 17,
   "id": "3bb36d06",
   "metadata": {},
   "outputs": [
    {
     "data": {
      "text/plain": [
       "<Tag: Azure>"
      ]
     },
     "execution_count": 17,
     "metadata": {},
     "output_type": "execute_result"
    }
   ],
   "source": [
    "# 새로운 태그 추가\n",
    "Tag.objects.create(name=\"Azure\")"
   ]
  },
  {
   "cell_type": "code",
   "execution_count": 18,
   "id": "be5c2a97",
   "metadata": {},
   "outputs": [
    {
     "data": {
      "text/plain": [
       "<QuerySet [<Tag: python>, <Tag: 장고>, <Tag: Azure>]>"
      ]
     },
     "execution_count": 18,
     "metadata": {},
     "output_type": "execute_result"
    }
   ],
   "source": [
    "Tag.objects.all()"
   ]
  },
  {
   "cell_type": "code",
   "execution_count": null,
   "id": "73ee79bf",
   "metadata": {},
   "outputs": [],
   "source": []
  },
  {
   "cell_type": "code",
   "execution_count": 25,
   "id": "ac27df43",
   "metadata": {},
   "outputs": [
    {
     "data": {
      "text/plain": [
       "<QuerySet [<Tag: python>]>"
      ]
     },
     "execution_count": 25,
     "metadata": {},
     "output_type": "execute_result"
    }
   ],
   "source": [
    "post.tag_set.all()"
   ]
  },
  {
   "cell_type": "code",
   "execution_count": 27,
   "id": "ac1d0a63",
   "metadata": {},
   "outputs": [],
   "source": [
    "# 새로운 태그 추가 (add 이용)\n",
    "tag = Tag.objects.get(name=\"Azure\")\n",
    "\n",
    "post.tag_set.add(tag)"
   ]
  },
  {
   "cell_type": "code",
   "execution_count": 28,
   "id": "68974dd9",
   "metadata": {},
   "outputs": [
    {
     "data": {
      "text/plain": [
       "<QuerySet [<Tag: python>, <Tag: Azure>]>"
      ]
     },
     "execution_count": 28,
     "metadata": {},
     "output_type": "execute_result"
    }
   ],
   "source": [
    "post.tag_set.all()"
   ]
  },
  {
   "cell_type": "code",
   "execution_count": 29,
   "id": "f79bfd19",
   "metadata": {},
   "outputs": [],
   "source": [
    "# 태그 삭제 (remove 이용)\n",
    "post.tag_set.remove(tag)"
   ]
  },
  {
   "cell_type": "code",
   "execution_count": 32,
   "id": "899fd316",
   "metadata": {},
   "outputs": [],
   "source": [
    "# 한 번에 전체 태그 추가\n",
    "\n",
    "tag_qs = Tag.objects.all()\n",
    "post.tag_set.add(*tag_qs) # python unpack 문법"
   ]
  },
  {
   "cell_type": "code",
   "execution_count": 33,
   "id": "484afbdb",
   "metadata": {},
   "outputs": [
    {
     "data": {
      "text/plain": [
       "<QuerySet [<Tag: python>, <Tag: 장고>, <Tag: Azure>]>"
      ]
     },
     "execution_count": 33,
     "metadata": {},
     "output_type": "execute_result"
    }
   ],
   "source": [
    "post.tag_set.all()"
   ]
  },
  {
   "cell_type": "code",
   "execution_count": 30,
   "id": "58902805",
   "metadata": {},
   "outputs": [
    {
     "data": {
      "text/plain": [
       "<QuerySet [<Tag: python>]>"
      ]
     },
     "execution_count": 30,
     "metadata": {},
     "output_type": "execute_result"
    }
   ],
   "source": [
    "post.tag_set.all()"
   ]
  },
  {
   "cell_type": "code",
   "execution_count": 13,
   "id": "82f15348",
   "metadata": {},
   "outputs": [],
   "source": [
    "tag = Tag.objects.first()"
   ]
  },
  {
   "cell_type": "code",
   "execution_count": 14,
   "id": "aebd5274",
   "metadata": {},
   "outputs": [
    {
     "data": {
      "text/plain": [
       "<QuerySet [<Post: Post object (3)>]>"
      ]
     },
     "execution_count": 14,
     "metadata": {},
     "output_type": "execute_result"
    }
   ],
   "source": [
    "tag.post_set.all()"
   ]
  },
  {
   "cell_type": "code",
   "execution_count": null,
   "id": "fcc469f9",
   "metadata": {},
   "outputs": [],
   "source": []
  },
  {
   "cell_type": "code",
   "execution_count": 21,
   "id": "ce2275dd",
   "metadata": {},
   "outputs": [],
   "source": [
    "# python unpack 문법 ()\n",
    "def myfn(a, b, c):\n",
    "    print(f\"a={a}, b={b}, c={c}\")"
   ]
  },
  {
   "cell_type": "code",
   "execution_count": 22,
   "id": "3610ae2d",
   "metadata": {},
   "outputs": [
    {
     "name": "stdout",
     "output_type": "stream",
     "text": [
      "a=1, b=2, c=3\n"
     ]
    }
   ],
   "source": [
    "myfn(1, 2, 3)"
   ]
  },
  {
   "cell_type": "code",
   "execution_count": 24,
   "id": "cc226d16",
   "metadata": {},
   "outputs": [
    {
     "name": "stdout",
     "output_type": "stream",
     "text": [
      "a=1, b=2, c=3\n"
     ]
    }
   ],
   "source": [
    "params = [1, 2, 3] # list 나 tuple일 경우\n",
    "myfn(*params)"
   ]
  },
  {
   "cell_type": "code",
   "execution_count": null,
   "id": "aa591285",
   "metadata": {},
   "outputs": [],
   "source": []
  }
 ],
 "metadata": {
  "kernelspec": {
   "display_name": "Python 3 (ipykernel)",
   "language": "python",
   "name": "python3"
  },
  "language_info": {
   "codemirror_mode": {
    "name": "ipython",
    "version": 3
   },
   "file_extension": ".py",
   "mimetype": "text/x-python",
   "name": "python",
   "nbconvert_exporter": "python",
   "pygments_lexer": "ipython3",
   "version": "3.8.7"
  }
 },
 "nbformat": 4,
 "nbformat_minor": 5
}
